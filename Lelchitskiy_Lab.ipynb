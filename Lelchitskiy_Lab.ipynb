{
  "nbformat": 4,
  "nbformat_minor": 0,
  "metadata": {
    "colab": {
      "provenance": [],
      "authorship_tag": "ABX9TyMuVDzlVOGJL83xZTumEtAN",
      "include_colab_link": true
    },
    "kernelspec": {
      "name": "python3",
      "display_name": "Python 3"
    },
    "language_info": {
      "name": "python"
    }
  },
  "cells": [
    {
      "cell_type": "markdown",
      "metadata": {
        "id": "view-in-github",
        "colab_type": "text"
      },
      "source": [
        "<a href=\"https://colab.research.google.com/github/dvarim/gitlesson/blob/master/Lelchitskiy_Lab.ipynb\" target=\"_parent\"><img src=\"https://colab.research.google.com/assets/colab-badge.svg\" alt=\"Open In Colab\"/></a>"
      ]
    },
    {
      "cell_type": "code",
      "execution_count": null,
      "metadata": {
        "colab": {
          "base_uri": "https://localhost:8080/"
        },
        "id": "ETjxZWSGT1Pr",
        "outputId": "006a3b45-0400-4b70-c82f-52e7873a389c"
      },
      "outputs": [
        {
          "output_type": "stream",
          "name": "stdout",
          "text": [
            "Requirement already satisfied: faker in /usr/local/lib/python3.11/dist-packages (37.4.0)\n",
            "Requirement already satisfied: psycopg2-binary in /usr/local/lib/python3.11/dist-packages (2.9.10)\n",
            "Requirement already satisfied: tzdata in /usr/local/lib/python3.11/dist-packages (from faker) (2025.2)\n"
          ]
        }
      ],
      "source": [
        "pip install faker psycopg2-binary"
      ]
    },
    {
      "cell_type": "code",
      "source": [
        "import random\n",
        "from datetime import date, timedelta\n",
        "from faker import Faker\n",
        "import psycopg2"
      ],
      "metadata": {
        "id": "Op9LIWN0UKcD"
      },
      "execution_count": null,
      "outputs": []
    },
    {
      "cell_type": "code",
      "source": [
        "fake = Faker('ru_RU')"
      ],
      "metadata": {
        "id": "_dBmHb2_UOAv"
      },
      "execution_count": null,
      "outputs": []
    },
    {
      "cell_type": "code",
      "source": [
        "conn = psycopg2.connect(\n",
        "    host=\"158.160.76.203\",\n",
        "    database=\"course\",\n",
        "    user=\"course\",\n",
        "    password=\"course\"\n",
        ")\n",
        "cur = conn.cursor()"
      ],
      "metadata": {
        "id": "cwRjtW54UTOb"
      },
      "execution_count": null,
      "outputs": []
    },
    {
      "cell_type": "code",
      "source": [
        "def random_date(start_year=1978, end_year=2025):\n",
        "    year = random.randint(start_year, end_year)\n",
        "    month = random.randint(1, 12)\n",
        "    day = random.randint(1, 28)  # Избегаем ошибок с 29-31 числами\n",
        "    return date(year, month, day)"
      ],
      "metadata": {
        "id": "6GUR_Cu4UhPt"
      },
      "execution_count": null,
      "outputs": []
    },
    {
      "cell_type": "code",
      "source": [
        "pip install faker psycopg2-binary"
      ],
      "metadata": {
        "colab": {
          "base_uri": "https://localhost:8080/"
        },
        "id": "EwJrJ6gbf9H3",
        "outputId": "f05e41aa-fd14-4dfe-d520-a3116a2e8ced"
      },
      "execution_count": null,
      "outputs": [
        {
          "output_type": "stream",
          "name": "stdout",
          "text": [
            "Requirement already satisfied: faker in /usr/local/lib/python3.11/dist-packages (37.4.0)\n",
            "Requirement already satisfied: psycopg2-binary in /usr/local/lib/python3.11/dist-packages (2.9.10)\n",
            "Requirement already satisfied: tzdata in /usr/local/lib/python3.11/dist-packages (from faker) (2025.2)\n"
          ]
        }
      ]
    },
    {
      "cell_type": "code",
      "source": [
        "!pip install psycopg2-binary\n",
        "!pip install faker\n",
        "\n",
        "from faker import Faker\n",
        "import psycopg2\n",
        "import random\n",
        "import uuid"
      ],
      "metadata": {
        "colab": {
          "base_uri": "https://localhost:8080/"
        },
        "id": "CyfUxyJvLiDb",
        "outputId": "4464bad6-1109-47fd-8284-71827ee025a1"
      },
      "execution_count": null,
      "outputs": [
        {
          "output_type": "stream",
          "name": "stdout",
          "text": [
            "Collecting psycopg2-binary\n",
            "  Downloading psycopg2_binary-2.9.10-cp311-cp311-manylinux_2_17_x86_64.manylinux2014_x86_64.whl.metadata (4.9 kB)\n",
            "Downloading psycopg2_binary-2.9.10-cp311-cp311-manylinux_2_17_x86_64.manylinux2014_x86_64.whl (3.0 MB)\n",
            "\u001b[2K   \u001b[90m━━━━━━━━━━━━━━━━━━━━━━━━━━━━━━━━━━━━━━━━\u001b[0m \u001b[32m3.0/3.0 MB\u001b[0m \u001b[31m17.2 MB/s\u001b[0m eta \u001b[36m0:00:00\u001b[0m\n",
            "\u001b[?25hInstalling collected packages: psycopg2-binary\n",
            "Successfully installed psycopg2-binary-2.9.10\n",
            "Collecting faker\n",
            "  Downloading faker-37.4.0-py3-none-any.whl.metadata (15 kB)\n",
            "Requirement already satisfied: tzdata in /usr/local/lib/python3.11/dist-packages (from faker) (2025.2)\n",
            "Downloading faker-37.4.0-py3-none-any.whl (1.9 MB)\n",
            "\u001b[2K   \u001b[90m━━━━━━━━━━━━━━━━━━━━━━━━━━━━━━━━━━━━━━━━\u001b[0m \u001b[32m1.9/1.9 MB\u001b[0m \u001b[31m23.1 MB/s\u001b[0m eta \u001b[36m0:00:00\u001b[0m\n",
            "\u001b[?25hInstalling collected packages: faker\n",
            "Successfully installed faker-37.4.0\n"
          ]
        }
      ]
    },
    {
      "cell_type": "code",
      "source": [
        "# Конфигурация подключения к базе данных\n",
        "DB_CONFIG = {\n",
        "    'host': '158.160.76.203',\n",
        "    'port': '5432',\n",
        "    'database': 'course',\n",
        "    'user': 'course',\n",
        "    'password': 'course'\n",
        "}\n",
        "\n",
        "# Инициализация Faker\n",
        "fake = Faker()"
      ],
      "metadata": {
        "id": "8yEdLOpJLtuJ"
      },
      "execution_count": null,
      "outputs": []
    },
    {
      "cell_type": "code",
      "source": [
        "def create_tables(conn):\n",
        "    commands = (\n",
        "        \"\"\"\n",
        "        CREATE TABLE IF NOT EXISTS ruslan_lelchitskiy.authors (\n",
        "            author_id SERIAL PRIMARY KEY,\n",
        "            first_name VARCHAR(100) NOT NULL,\n",
        "            last_name VARCHAR(100) NOT NULL,\n",
        "            birth_date DATE,\n",
        "            country VARCHAR(100)\n",
        "        )\n",
        "        \"\"\",\n",
        "        \"\"\"\n",
        "        CREATE TABLE IF NOT EXISTS ruslan_lelchitskiy.books (\n",
        "            book_id SERIAL PRIMARY KEY,\n",
        "            title VARCHAR(255) NOT NULL,\n",
        "            author_id INTEGER REFERENCES ruslan_lelchitskiy.authors(author_id),\n",
        "            publication_year INTEGER,\n",
        "            isbn VARCHAR(20) UNIQUE,\n",
        "            genre VARCHAR(100),\n",
        "            page_count INTEGER,\n",
        "            available_copies INTEGER DEFAULT 1\n",
        "        )\n",
        "        \"\"\"\n",
        "    )\n",
        "    try:\n",
        "        cursor = conn.cursor()\n",
        "        for command in commands:\n",
        "            cursor.execute(command)\n",
        "        conn.commit()\n",
        "        print('Таблицы успешно созданы')\n",
        "    except (Exception, psycopg2.DatabaseError) as error:\n",
        "        print(f'Ошибка при создании таблиц: {error}')\n",
        "    finally:\n",
        "        cursor.close()\n",
        "\n",
        "def generate_authors(num_authors):\n",
        "    authors = []\n",
        "    for _ in range(num_authors):\n",
        "        birth_date = fake.date_of_birth(minimum_age=20, maximum_age=90)\n",
        "        author = {\n",
        "            'first_name': fake.first_name(),\n",
        "            'last_name': fake.last_name(),\n",
        "            'birth_date': birth_date,\n",
        "            'country': fake.country()\n",
        "        }\n",
        "        authors.append(author)\n",
        "    return authors\n",
        "\n",
        "def generate_books(authors, books_per_author=2):\n",
        "    books = []\n",
        "    for author in authors:\n",
        "        num_books = random.randint(2, 5)\n",
        "        for _ in range(num_books):\n",
        "            publication_year = fake.random_int(min=1900, max=2023)\n",
        "            book = {\n",
        "                'title': fake.sentence(nb_words=4).rstrip('.'),  # Убираем точку в конце\n",
        "                'author_id': author['author_id'],\n",
        "                'publication_year': publication_year,\n",
        "                'isbn': fake.isbn13(),  # Генерируем уникальный ISBN\n",
        "                'genre': random.choice(['Фантастика', 'Роман', 'Детектив', 'Боевик', 'Фэнтези']),\n",
        "                'page_count': fake.random_int(min=50, max=1000),\n",
        "                'available_copies': fake.random_int(min=1, max=10)\n",
        "            }\n",
        "            books.append(book)\n",
        "    return books\n",
        "\n",
        "def insert_data(conn, table_name, data):\n",
        "    if not data:\n",
        "        return\n",
        "    columns = data[0].keys()\n",
        "    query = f\"INSERT INTO {table_name} ({', '.join(columns)}) VALUES ({', '.join(['%s'] * len(columns))})\"\n",
        "    try:\n",
        "        cursor = conn.cursor()\n",
        "        for row in data:\n",
        "            cursor.execute(query, list(row.values()))\n",
        "        conn.commit()\n",
        "        print(f'Данные успешно добавлены в таблицу: {table_name}')\n",
        "    except (Exception, psycopg2.DatabaseError) as error:\n",
        "        print(f'Ошибка при вставке данных в таблицу {table_name}: {error}')\n",
        "    finally:\n",
        "        cursor.close()\n",
        "\n",
        "def main():\n",
        "    conn = None\n",
        "    try:\n",
        "        conn = psycopg2.connect(**DB_CONFIG)\n",
        "\n",
        "        # Создание таблиц\n",
        "        create_tables(conn)\n",
        "\n",
        "        # Генерация авторов\n",
        "        num_authors = 1000\n",
        "        authors = generate_authors(num_authors)\n",
        "        insert_data(conn, 'ruslan_lelchitskiy.authors', authors)\n",
        "\n",
        "        # Получение ID авторов из БД\n",
        "        cursor = conn.cursor()\n",
        "        cursor.execute('SELECT author_id FROM ruslan_lelchitskiy.authors')\n",
        "        db_authors = [{'author_id': row[0]} for row in cursor.fetchall()]\n",
        "        cursor.close()\n",
        "\n",
        "        # Генерация книг\n",
        "        books = generate_books(db_authors)\n",
        "        insert_data(conn, 'ruslan_lelchitskiy.books', books)\n",
        "\n",
        "    except (Exception, psycopg2.DatabaseError) as error:\n",
        "        print(f'Ошибка: {error}')\n",
        "    finally:\n",
        "        if conn is not None:\n",
        "            conn.close()\n",
        "            print('Соединение с базой данных закрыто.')\n",
        "\n",
        "if __name__ == '__main__':\n",
        "    main()"
      ],
      "metadata": {
        "colab": {
          "base_uri": "https://localhost:8080/"
        },
        "id": "_NFfdpEKLw1J",
        "outputId": "808656d7-fe01-42b2-84d9-bca7969a033f"
      },
      "execution_count": null,
      "outputs": [
        {
          "output_type": "stream",
          "name": "stdout",
          "text": [
            "Таблицы успешно созданы\n",
            "Данные успешно добавлены в таблицу: ruslan_lelchitskiy.authors\n",
            "Данные успешно добавлены в таблицу: ruslan_lelchitskiy.books\n",
            "Соединение с базой данных закрыто.\n"
          ]
        }
      ]
    }
  ]
}